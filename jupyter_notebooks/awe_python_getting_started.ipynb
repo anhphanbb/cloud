{
 "cells": [
  {
   "cell_type": "markdown",
   "id": "9a1041f0-e4ac-4b42-9d45-1940fdc44646",
   "metadata": {},
   "source": [
    "### Step 1: Download and Install Anaconda Navigator\n",
    "1. Download and install [Anaconda Navigator](https://www.anaconda.com/products/distribution).\n",
    "\n",
    "### Step 2: Create a New Environment\n",
    "1. Open Anaconda prompt.\n",
    "2. Create a new environment for TensorFlow:\n",
    "   ```bash\n",
    "   conda create --name tf_env python=3.12.4\n",
    "   ```\n",
    "3. Activate the new environment:\n",
    "   ```bash\n",
    "   conda activate tf_env\n",
    "   ```\n",
    "\n",
    "### Step 3: Install Required Libraries\n",
    "1. Install the necessary libraries:\n",
    "   ```bash\n",
    "   pip install opencv-python tensorflow pandas netcdf4 matplotlib\n",
    "   ```\n",
    "\n",
    "### Step 4: Configure Spyder for Plotting\n",
    "1. Open Spyder (from Anaconda Navigator or via terminal).\n",
    "2. Go to `Tools > Preferences > IPython console`.\n",
    "3. Under the `Graphics` tab, set ‘Graphics backend’ to `Automatic`.\n",
    "4. This configuration will ensure that plots display in separate windows.\n",
    "\n",
    "### Step 5: Clone the GitHub Repository\n",
    "1. Clone the repository to your local machine:\n",
    "   ```bash\n",
    "   git clone https://github.com/anhphanbb/cloud.git\n",
    "   ```\n",
    "\n",
    "### Step 6: Prepare the Data\n",
    "1. Download the data folder with q20 camera data for November: `l1r_11_updated_07032024`(https://usu-my.sharepoint.com/:f:/g/personal/a02400392_aggies_usu_edu/EgEd_MAsCa9KrSYwzD4AX8sBZljDv3YOXQSkcmMN71EuQw?e=v0Oae2).\n",
    "   - **Tip:** You can start by downloading a couple of files for testing purposes.\n",
    "2. Download the folder with the predicted orbit: `one_nc_file_with_mlcloud`(https://usu-my.sharepoint.com/:f:/g/personal/a02400392_aggies_usu_edu/EpLrOgiz3v1Eo4pIDTVynn0BsafN9ODHfWy5GBOSz-n-SA?e=2xPxFD).\n",
    "3. After downloading, place these folders into the cloned GitHub directory with the exact names as shown.\n",
    "\n",
    "### Step 7: View NetCDF Files and Identify Cloud Intervals\n",
    "1. Open Spyder (ensure you are using the `tf_env` environment).\n",
    "2. Open the script `view_images_aug_6.py`.\n",
    "3. Check the `parent_directory` in the code and make sure it points to the correct folder.\n",
    "4. Define the orbit number you want to view (choose one you have downloaded).\n",
    "5. Click `Run`.\n",
    "6. Use the mouse or keyboard keys (up, down, left, right, V, B, C) to navigate through the images and identify cloud intervals.\n",
    "   - The current intervals are stored in `cloud_intervals_112024_D (1).xlsx`.\n",
    "\n",
    "### Step 8: View NetCDF Files with Predictions\n",
    "1. Open the script `view_clouds.py`.\n",
    "2. Ensure that `parent_directory` and `orbit_number` are correctly set.\n",
    "3. Click `Run`.\n",
    "4. You will see an interface displaying the predicted segments."
   ]
  },
  {
   "cell_type": "code",
   "execution_count": null,
   "id": "0d208857-c233-4cfb-a40f-fd138e6d3335",
   "metadata": {},
   "outputs": [],
   "source": []
  }
 ],
 "metadata": {
  "kernelspec": {
   "display_name": "Python 3 (ipykernel)",
   "language": "python",
   "name": "python3"
  },
  "language_info": {
   "codemirror_mode": {
    "name": "ipython",
    "version": 3
   },
   "file_extension": ".py",
   "mimetype": "text/x-python",
   "name": "python",
   "nbconvert_exporter": "python",
   "pygments_lexer": "ipython3",
   "version": "3.12.4"
  }
 },
 "nbformat": 4,
 "nbformat_minor": 5
}
